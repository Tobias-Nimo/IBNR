{
 "cells": [
  {
   "cell_type": "markdown",
   "metadata": {
    "tags": []
   },
   "source": [
    "## <center> **GLM for Loss Reserving** #\n",
    "\n",
    "This script supports only one of the following GLM disrtibutions:\n",
    "    \n",
    "- Poisson\n",
    "- Gamma\n",
    "- Inverse Gaussian\n",
    "    \n",
    "---"
   ]
  },
  {
   "cell_type": "code",
   "execution_count": 1,
   "metadata": {},
   "outputs": [],
   "source": [
    "import numpy as np\n",
    "import pandas as pd\n",
    "import statsmodels.api as sm\n",
    "\n",
    "from glm import *\n",
    "pd.options.display.float_format = '{:.4f}'.format"
   ]
  },
  {
   "cell_type": "code",
   "execution_count": 2,
   "metadata": {},
   "outputs": [
    {
     "name": "stdin",
     "output_type": "stream",
     "text": [
      "Enter model distribution:  gamma\n"
     ]
    }
   ],
   "source": [
    "# select model distribution\n",
    "\n",
    "while True:\n",
    "    glm = input(\"Enter model distribution: \").title()\n",
    "    if glm == \"Poisson\":\n",
    "        distribution = sm.families.Poisson(link=sm.families.links.log()) # Log()\n",
    "        break\n",
    "    elif glm == \"Gamma\":\n",
    "        distribution = sm.families.Gamma(link=sm.families.links.log()) # Log()\n",
    "        break\n",
    "    elif glm == \"Inverse Gaussian\":\n",
    "        distribution = sm.families.InverseGaussian(link=sm.families.links.inverse_squared()) # InversedSquared()\n",
    "        break\n",
    "    else:\n",
    "        print(\"\"\"Ups! That is not a valid distribution :(\n",
    "        Try again...\"\"\")\n",
    "        pass"
   ]
  },
  {
   "cell_type": "code",
   "execution_count": 3,
   "metadata": {},
   "outputs": [
    {
     "name": "stdin",
     "output_type": "stream",
     "text": [
      "sheet name: CAS\n"
     ]
    },
    {
     "name": "stdout",
     "output_type": "stream",
     "text": [
      "          1            2            3           4          5\n",
      "1   7017487 4151522.0000  999910.0000 215639.0000 52760.0000\n",
      "2   8954484 5091234.0000 1037206.0000 336748.0000        nan\n",
      "3   9155776 6215702.0000 1086998.0000         nan        nan\n",
      "4  10394069 6190043.0000          nan         nan        nan\n",
      "5  12755243          nan          nan         nan        nan\n"
     ]
    }
   ],
   "source": [
    "# import data\n",
    "sheet_name = input(\"sheet name:\")\n",
    "\n",
    "X_table = import_triangle(\"triangles.xlsx\", sheet_name, \"table\") # incremental observed triangle\n",
    "X_triangle = import_triangle(\"triangles.xlsx\", sheet_name, \"triangle\") # cumulative observed triangle\n",
    "\n",
    "print(X_triangle)"
   ]
  },
  {
   "cell_type": "code",
   "execution_count": 4,
   "metadata": {},
   "outputs": [
    {
     "name": "stdout",
     "output_type": "stream",
     "text": [
      "                 Generalized Linear Model Regression Results                  \n",
      "==============================================================================\n",
      "Dep. Variable:                   loss   No. Observations:                   15\n",
      "Model:                            GLM   Df Residuals:                        6\n",
      "Model Family:                   Gamma   Df Model:                            8\n",
      "Link Function:                    log   Scale:                        0.010660\n",
      "Method:                          IRLS   Log-Likelihood:                -202.41\n",
      "Date:                Mon, 21 Aug 2023   Deviance:                     0.062640\n",
      "Time:                        19:59:47   Pearson chi2:                   0.0640\n",
      "No. Iterations:                    12                                         \n",
      "Covariance Type:            nonrobust                                         \n",
      "==============================================================================\n",
      "                 coef    std err          z      P>|z|      [0.025      0.975]\n",
      "------------------------------------------------------------------------------\n",
      "Intercept     15.7651      0.071    222.196      0.000      15.626      15.904\n",
      "acc_year_2     0.2310      0.073      3.165      0.002       0.088       0.374\n",
      "acc_year_3     0.2860      0.082      3.504      0.000       0.126       0.446\n",
      "acc_year_4     0.3813      0.095      4.012      0.000       0.195       0.568\n",
      "acc_year_5     0.5964      0.125      4.761      0.000       0.351       0.842\n",
      "dev_year_2    -0.4974      0.073     -6.812      0.000      -0.640      -0.354\n",
      "dev_year_3    -2.0775      0.082    -25.451      0.000      -2.237      -1.917\n",
      "dev_year_4    -3.3706      0.095    -35.467      0.000      -3.557      -3.184\n",
      "dev_year_5    -4.8915      0.125    -39.046      0.000      -5.137      -4.646\n",
      "==============================================================================\n",
      "loss ~ acc_year_2 + acc_year_3 + acc_year_4 + acc_year_5 + dev_year_2 + dev_year_3 + dev_year_4 + dev_year_5\n"
     ]
    }
   ],
   "source": [
    "X = pd.get_dummies(X_table, columns=['dev_year', 'acc_year'], drop_first=True).iloc[:,1:] # X (design matrix w/out constant)\n",
    "y = X_table['loss'] # y (target vector)\n",
    "\n",
    "# GLM #\n",
    "formula = gen_formula(X)\n",
    "model = sm.GLM.from_formula(formula,\n",
    "                            data=pd.concat([y, X], axis=1),\n",
    "                            family=distribution)\n",
    "                                                           \n",
    "model = model.fit()\n",
    "print(model.summary(), formula, sep=\"\\n\")"
   ]
  },
  {
   "cell_type": "code",
   "execution_count": 5,
   "metadata": {},
   "outputs": [
    {
     "name": "stdout",
     "output_type": "stream",
     "text": [
      "              1            2            3           4          5\n",
      "1  7025480.0299 4272417.0210  879915.2000 241459.8777 52760.0000\n",
      "2  8851427.9541 5382833.8120 1108608.3749 304216.1819 66472.5167\n",
      "3  9351880.4049 5687174.8051 1171288.1799 321416.3144 70230.8181\n",
      "4 10286428.0760 6255502.8567 1288336.7940 353535.9369 77249.0909\n",
      "5 12755243.0000 7756867.4407 1597546.6656 438387.0428 95789.4148\n"
     ]
    }
   ],
   "source": [
    "# generates incremental loss data table (with GLM eq.)\n",
    "adj_table = gen_adj_table(model) \n",
    "\n",
    "m_triangle = to_triangular_form(adj_table) # incremental adj triangle\n",
    "M_triangle = to_cum_triangle(m_triangle) # cumulative adj triangle\n",
    "print(m_triangle)"
   ]
  },
  {
   "cell_type": "code",
   "execution_count": 6,
   "metadata": {},
   "outputs": [
    {
     "name": "stdout",
     "output_type": "stream",
     "text": [
      "IBNR: 12065832.034934722\n",
      "Ultimate: 85692467.80890052\n"
     ]
    }
   ],
   "source": [
    "# loss reserve by AY\n",
    "ultimate, ibnr = calculate_loss(M_triangle)\n",
    "\n",
    "print(f\"IBNR: {ibnr.sum()}\",\n",
    "      f\"Ultimate: {ultimate.sum()}\",\n",
    "      sep=\"\\n\")"
   ]
  },
  {
   "cell_type": "markdown",
   "metadata": {},
   "source": [
    "---"
   ]
  }
 ],
 "metadata": {
  "kernelspec": {
   "display_name": "Python 3",
   "language": "python",
   "name": "python3"
  },
  "language_info": {
   "codemirror_mode": {
    "name": "ipython",
    "version": 3
   },
   "file_extension": ".py",
   "mimetype": "text/x-python",
   "name": "python",
   "nbconvert_exporter": "python",
   "pygments_lexer": "ipython3",
   "version": "3.8.3"
  }
 },
 "nbformat": 4,
 "nbformat_minor": 4
}
