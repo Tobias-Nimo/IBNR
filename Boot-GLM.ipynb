{
 "cells": [
  {
   "cell_type": "markdown",
   "metadata": {},
   "source": [
    "### <center> **Bootstrapping using GLM**\n",
    "This script supports only one of the following GLM disrtibutions:\n",
    "    \n",
    "- Poisson\n",
    "- Gamma\n",
    "- Inverse Gaussian\n",
    "\n",
    "---"
   ]
  },
  {
   "cell_type": "code",
   "execution_count": 1,
   "metadata": {},
   "outputs": [],
   "source": [
    "import numpy as np\n",
    "import pandas as pd\n",
    "from scipy import stats\n",
    "import statsmodels.api as sm\n",
    "import matplotlib.pyplot as plt\n",
    "\n",
    "from glm import *\n",
    "pd.options.display.float_format = '{:.2f}'.format"
   ]
  },
  {
   "cell_type": "code",
   "execution_count": 2,
   "metadata": {},
   "outputs": [
    {
     "name": "stdin",
     "output_type": "stream",
     "text": [
      "Enter model distribution:  GAMMA\n"
     ]
    },
    {
     "name": "stderr",
     "output_type": "stream",
     "text": [
      "C:\\Users\\tnimo\\AppData\\Local\\anaconda3\\Lib\\site-packages\\statsmodels\\genmod\\families\\links.py:13: FutureWarning: The log link alias is deprecated. Use Log instead. The log link alias will be removed after the 0.15.0 release.\n",
      "  warnings.warn(\n"
     ]
    }
   ],
   "source": [
    "# select model distribution\n",
    "\n",
    "while True:\n",
    "    glm = input(\"Enter model distribution: \").title()\n",
    "    if glm == \"Poisson\":\n",
    "        distribution = sm.families.Poisson(link=sm.families.links.log()) # Log()\n",
    "        break\n",
    "    elif glm == \"Gamma\":\n",
    "        distribution = sm.families.Gamma(link=sm.families.links.log()) # Log()\n",
    "        break\n",
    "    elif glm == \"Inverse Gaussian\":\n",
    "        distribution = sm.families.InverseGaussian(link=sm.families.links.inverse_squared()) # InversedSquared()\n",
    "        break\n",
    "    else:\n",
    "        print(\"\"\"Ups! That is not a valid distribution :(\n",
    "        Try again...\"\"\")\n",
    "        pass"
   ]
  },
  {
   "cell_type": "code",
   "execution_count": 3,
   "metadata": {},
   "outputs": [
    {
     "name": "stdin",
     "output_type": "stream",
     "text": [
      "sheet name: CAS\n"
     ]
    },
    {
     "name": "stdout",
     "output_type": "stream",
     "text": [
      "          1          2          3         4        5\n",
      "1   7017487 4151522.00  999910.00 215639.00 52760.00\n",
      "2   8954484 5091234.00 1037206.00 336748.00      NaN\n",
      "3   9155776 6215702.00 1086998.00       NaN      NaN\n",
      "4  10394069 6190043.00        NaN       NaN      NaN\n",
      "5  12755243        NaN        NaN       NaN      NaN\n"
     ]
    }
   ],
   "source": [
    "# 0. import data\n",
    "sheet_name = input(\"sheet name:\")\n",
    "\n",
    "X_table = import_triangle(\"triangles.xlsx\", sheet_name, \"table\") # incremental observed triangle\n",
    "X_triangle = import_triangle(\"triangles.xlsx\", sheet_name, \"triangle\") # cumulative observed triangle\n",
    "\n",
    "print(X_triangle)\n",
    "\n",
    "t = X_triangle.shape[0] # number of acc./dev. years\n",
    "n = int(t*(t+1)/2) # number of elements in the upper triangle\n",
    "p = 2*t-1 # number of parameters to estimate"
   ]
  },
  {
   "cell_type": "code",
   "execution_count": 4,
   "metadata": {},
   "outputs": [
    {
     "name": "stdout",
     "output_type": "stream",
     "text": [
      "                 Generalized Linear Model Regression Results                  \n",
      "==============================================================================\n",
      "Dep. Variable:                   loss   No. Observations:                   15\n",
      "Model:                            GLM   Df Residuals:                        6\n",
      "Model Family:                   Gamma   Df Model:                            8\n",
      "Link Function:                    log   Scale:                        0.010660\n",
      "Method:                          IRLS   Log-Likelihood:                -202.41\n",
      "Date:                Wed, 23 Aug 2023   Deviance:                     0.062640\n",
      "Time:                        11:03:19   Pearson chi2:                   0.0640\n",
      "No. Iterations:                    12   Pseudo R-squ. (CS):              1.000\n",
      "Covariance Type:            nonrobust                                         \n",
      "==============================================================================\n",
      "                 coef    std err          z      P>|z|      [0.025      0.975]\n",
      "------------------------------------------------------------------------------\n",
      "Intercept     15.7651      0.071    222.196      0.000      15.626      15.904\n",
      "acc_year_2     0.2310      0.073      3.165      0.002       0.088       0.374\n",
      "acc_year_3     0.2860      0.082      3.504      0.000       0.126       0.446\n",
      "acc_year_4     0.3813      0.095      4.012      0.000       0.195       0.568\n",
      "acc_year_5     0.5964      0.125      4.761      0.000       0.351       0.842\n",
      "dev_year_2    -0.4974      0.073     -6.812      0.000      -0.640      -0.354\n",
      "dev_year_3    -2.0775      0.082    -25.451      0.000      -2.237      -1.917\n",
      "dev_year_4    -3.3706      0.095    -35.467      0.000      -3.557      -3.184\n",
      "dev_year_5    -4.8915      0.125    -39.046      0.000      -5.137      -4.646\n",
      "==============================================================================\n",
      "loss ~ acc_year_2 + acc_year_3 + acc_year_4 + acc_year_5 + dev_year_2 + dev_year_3 + dev_year_4 + dev_year_5\n"
     ]
    }
   ],
   "source": [
    "X = pd.get_dummies(X_table, columns=['dev_year', 'acc_year'], drop_first=True).iloc[:,1:] # X (design matrix w/out constant)\n",
    "y = X_table['loss'] # y (target vector)\n",
    "\n",
    "# 1. train GLM\n",
    "formula = gen_formula(X)\n",
    "model = sm.GLM.from_formula(formula,\n",
    "                            data=pd.concat([y, X], axis=1),\n",
    "                            family=distribution)\n",
    "                                                           \n",
    "model = model.fit()\n",
    "print(model.summary(), formula, sep=\"\\n\")"
   ]
  },
  {
   "cell_type": "code",
   "execution_count": 5,
   "metadata": {},
   "outputs": [
    {
     "name": "stdout",
     "output_type": "stream",
     "text": [
      "            1          2          3         4        5\n",
      "1  7025480.03 4272417.02  879915.20 241459.88 52760.00\n",
      "2  8851427.95 5382833.81 1108608.37 304216.18 66472.52\n",
      "3  9351880.40 5687174.81 1171288.18 321416.31 70230.82\n",
      "4 10286428.08 6255502.86 1288336.79 353535.94 77249.09\n",
      "5 12755243.00 7756867.44 1597546.67 438387.04 95789.41\n"
     ]
    }
   ],
   "source": [
    "# 2. adjusted incremental (upper and lower) triangle \n",
    "m_table = gen_adj_table(model) \n",
    "m_triangle = to_triangular_form(m_table)\n",
    "print(m_triangle)\n",
    "\n",
    "# 2.1 adjusted cumulative (upper and lower) triangle (and loss reserve)\n",
    "M_triangle = to_cum_triangle(m_triangle)\n",
    "_, ibnr = calculate_loss(M_triangle) # IBNR by AY\n",
    "R = ibnr.sum() # total IBNR"
   ]
  },
  {
   "cell_type": "code",
   "execution_count": 6,
   "metadata": {},
   "outputs": [
    {
     "name": "stdout",
     "output_type": "stream",
     "text": [
      "        1       2       3      4     5\n",
      "1   -4.77  -92.48  202.26 -83.08 -0.00\n",
      "2   54.77 -198.72 -107.22  93.26   NaN\n",
      "3 -101.39  350.42 -123.14    NaN   NaN\n",
      "4   53.07  -41.38     NaN    NaN   NaN\n",
      "5   -0.00     NaN     NaN    NaN   NaN\n",
      "\n",
      "Scale parameter: 18122.7132\n"
     ]
    }
   ],
   "source": [
    "# 3.1 Pearson residuals\n",
    "r_triangle = (X_triangle - m_triangle) / np.sqrt(m_triangle) \n",
    "residuals = r_triangle.values.flatten()\n",
    "residuals = residuals[~np.isnan(residuals)] # 1D array\n",
    "\n",
    "phi = (residuals**2).sum()/(n-p) # scale parameter\n",
    "\n",
    "# 3.2 Adjusted pearson residuals\n",
    "r_triangle = r_triangle*np.sqrt(n/(n-p)) \n",
    "aj_residuals = r_triangle.values.flatten()\n",
    "aj_residuals = aj_residuals[~np.isnan(aj_residuals)] # 1D array\n",
    "\n",
    "print(r_triangle)\n",
    "print(f\"\\nScale parameter: {round(phi,4)}\")"
   ]
  },
  {
   "cell_type": "code",
   "execution_count": 7,
   "metadata": {},
   "outputs": [],
   "source": [
    "# 4. Bootstrap loop\n",
    "iterations = 10000\n",
    "results = []\n",
    "for i in range(iterations):\n",
    "    # 4.1 bootstrap sample of the residuals (lower triangle form)\n",
    "    boot_sample = pd.DataFrame(np.nan, index=range(1,t+1), columns=range(1,t+1))\n",
    "    for row in boot_sample.index:\n",
    "        for col in boot_sample.index:\n",
    "            if row+col>t+1:\n",
    "                boot_sample.loc[row,col] = np.random.choice(aj_residuals)\n",
    "            else: pass\n",
    "\n",
    "    # 4.2 lower pseudo incremental values\n",
    "    mpseudo_triangle = boot_sample*np.sqrt(m_triangle)+m_triangle\n",
    "\n",
    "    # 4.3 compute IBNR by AY\n",
    "    ibnr = mpseudo_triangle.sum(axis=1)\n",
    "\n",
    "    # 4.4 store the results and go back to step 5.1\n",
    "    results.append(ibnr.sum())\n",
    "\n",
    "results = np.array(results)"
   ]
  },
  {
   "cell_type": "code",
   "execution_count": 8,
   "metadata": {},
   "outputs": [
    {
     "name": "stdout",
     "output_type": "stream",
     "text": [
      "Bootstrap distribution presents the following statistics: \n",
      "\t- mean: 12069081.36\n",
      "\t- sample size: 10000\n",
      "\t- standard deviation: 466616.25 \n",
      "\t- variance: 217730723921.31 \n",
      "\t- standard error: 466616.25\n",
      "\n",
      "Quantiles: \n",
      "\t- min: 10842669.21\n",
      "\t- 1st-Q: 11735888.43\n",
      "\t- median: 12012110.27\n",
      "\t- 3rd-Q: 12334887.06\n",
      "\t- max: 14114307.37\n",
      "\n"
     ]
    },
    {
     "data": {
      "image/png": "[encoded data removed]",
      "text/plain": [
       "<Figure size 640x480 with 1 Axes>"
      ]
     },
     "metadata": {},
     "output_type": "display_data"
    },
    {
     "name": "stdout",
     "output_type": "stream",
     "text": [
      "Bootstrap estimated loss reserve is 12069081.3567, with 3249.3217 bias from plain GLM (12065832.0349).\n",
      "\n",
      "Variability measures for our estimates: \n",
      "\t- process variance: 218665613843.488\n",
      "\t- estimation variance: 54432680.9803\n",
      "\t- cuadratic mean error: 218720046524.4684\n",
      "\t- prediction error: 467675.1506 \n",
      "\n"
     ]
    }
   ],
   "source": [
    "# bootstrap distribution analysis\n",
    "\n",
    "# statistics\n",
    "mean = results.mean()\n",
    "std = results.std()\n",
    "var = std**2\n",
    "size = results.shape[0] \n",
    "se = std/np.sqrt(size)\n",
    "\n",
    "print(f\"\"\"Bootstrap distribution presents the following statistics: \n",
    "\\t- mean: {round(mean,2)}\n",
    "\\t- sample size: {size}\n",
    "\\t- standard deviation: {round(std,2)} \n",
    "\\t- variance: {round(var,2)} \n",
    "\\t- standard error: {round(std,2)}\n",
    "\"\"\")\n",
    "\n",
    "print(f\"\"\"Quantiles: \n",
    "\\t- min: {round(results.min(),2)}\n",
    "\\t- 1st-Q: {round(np.quantile(results, 0.25),2)}\n",
    "\\t- median: {round(np.median(results),2)}\n",
    "\\t- 3rd-Q: {round(np.quantile(results, 0.75),2)}\n",
    "\\t- max: {round(results.max(),2)}\n",
    "\"\"\")\n",
    "\n",
    "# histogram\n",
    "fig, ax = plt.subplots()\n",
    "\n",
    "num_bins, mu, sigma = 20, mean, std\n",
    "_, bins, patches = ax.hist(results, num_bins, density=True, color=\"silver\") # histogram\n",
    "\n",
    "y = ((1 / (np.sqrt(2 * np.pi) * sigma)) *\n",
    "     np.exp(-0.5 * (1 / sigma * (bins - mu))**2)) # best normal fit\n",
    "\n",
    "ax.plot(bins, y, '--', color=\"black\")\n",
    "ax.set_xlabel('Loss reserve')\n",
    "ax.set_ylabel('Probability density')\n",
    "ax.set_title(f'Histogram of IBNR: $\\mu$={round(mu,2)}, $\\sigma$={round(sigma,2)}')\n",
    "\n",
    "#plt.savefig('bootGLM_hist.png')\n",
    "fig.tight_layout()\n",
    "plt.show()\n",
    "\n",
    "# estimates and variability measures\n",
    "bias = mean - R\n",
    "print(f\"Bootstrap estimated loss reserve is {round(mean,4)}, with {round(bias,4)} bias from plain GLM ({round(R,4)}).\")\n",
    "\n",
    "var_process = phi*R\n",
    "var_estimations = n/(n-p)*se**2\n",
    "cme = var_estimations+var_process\n",
    "pe = np.sqrt(cme)\n",
    "\n",
    "print(f\"\"\"\\nVariability measures for our estimates: \n",
    "\\t- process variance: {round(var_process,4)}\n",
    "\\t- estimation variance: {round(var_estimations,4)}\n",
    "\\t- cuadratic mean error: {round(cme,4)}\n",
    "\\t- prediction error: {round(pe,4)} \n",
    "\"\"\")"
   ]
  },
  {
   "cell_type": "code",
   "execution_count": 15,
   "metadata": {
    "tags": []
   },
   "outputs": [],
   "source": [
    "#pd.DataFrame(results, columns=[\"IBNR-glm\"]).to_excel(\"resultados_boot_glm.xlsx\", index=False)"
   ]
  },
  {
   "cell_type": "markdown",
   "metadata": {},
   "source": [
    "---"
   ]
  }
 ],
 "metadata": {
  "kernelspec": {
   "display_name": "Python 3 (ipykernel)",
   "language": "python",
   "name": "python3"
  },
  "language_info": {
   "codemirror_mode": {
    "name": "ipython",
    "version": 3
   },
   "file_extension": ".py",
   "mimetype": "text/x-python",
   "name": "python",
   "nbconvert_exporter": "python",
   "pygments_lexer": "ipython3",
   "version": "3.11.4"
  }
 },
 "nbformat": 4,
 "nbformat_minor": 4
}
