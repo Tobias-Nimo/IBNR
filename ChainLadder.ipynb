{
 "cells": [
  {
   "cell_type": "markdown",
   "metadata": {},
   "source": [
    "## <center> **Chain Ladder**\n",
    "---"
   ]
  },
  {
   "cell_type": "code",
   "execution_count": 1,
   "metadata": {},
   "outputs": [],
   "source": [
    "import numpy as np\n",
    "import pandas as pd\n",
    "\n",
    "from chain_ladder import *\n",
    "pd.options.display.float_format = '{:.2f}'.format"
   ]
  },
  {
   "cell_type": "code",
   "execution_count": 2,
   "metadata": {},
   "outputs": [
    {
     "name": "stdin",
     "output_type": "stream",
     "text": [
      "sheet name: CAS\n"
     ]
    },
    {
     "name": "stdout",
     "output_type": "stream",
     "text": [
      "          1          2          3         4        5\n",
      "1   7017487 4151522.00  999910.00 215639.00 52760.00\n",
      "2   8954484 5091234.00 1037206.00 336748.00      nan\n",
      "3   9155776 6215702.00 1086998.00       nan      nan\n",
      "4  10394069 6190043.00        nan       nan      nan\n",
      "5  12755243        nan        nan       nan      nan\n"
     ]
    }
   ],
   "source": [
    "# import data\n",
    "sheet_name = input(\"sheet name:\")\n",
    "\n",
    "inc_triangle = import_triangle(\"triangles.xlsx\", sheet_name, \"triangle\")\n",
    "print(inc_triangle) # incremental observed triangle\n",
    "\n",
    "cum_triangle = to_cum_triangle(inc_triangle)\n",
    "#print(cum_triangle) # cumulative observed triangle"
   ]
  },
  {
   "cell_type": "code",
   "execution_count": 3,
   "metadata": {},
   "outputs": [
    {
     "name": "stdout",
     "output_type": "stream",
     "text": [
      "            1          2          3         4        5\n",
      "1  7003006.77 4267929.29  867577.77 246044.18 52760.00\n",
      "2  8719250.81 5313881.19 1080197.18 306342.82 65690.02\n",
      "3  9495299.05 5786837.90 1176339.05 333608.56 71536.70\n",
      "4 10304259.38 6279852.62 1276558.29 362030.64 77631.33\n",
      "5 12755243.00 7773585.98 1580201.99 448143.68 96096.81\n"
     ]
    }
   ],
   "source": [
    "# generates cumulative loss data table (with chain ladder method)\n",
    "adj_table = gen_adj_table(cum_triangle) \n",
    "\n",
    "adj_cum_triangle = to_triangular_form(adj_table)\n",
    "#print(adj_cum_triangle) # cumulative adj triangle\n",
    "\n",
    "adj_inc_triangle = to_inc_triangle(adj_cum_triangle)\n",
    "print(adj_inc_triangle) # incremental adj triangle"
   ]
  },
  {
   "cell_type": "code",
   "execution_count": 4,
   "metadata": {},
   "outputs": [
    {
     "name": "stdout",
     "output_type": "stream",
     "text": [
      "IBNR: 12085084.007403877\n",
      "Ultimate: 85739905.00740387\n"
     ]
    }
   ],
   "source": [
    "# loss reserve by AY\n",
    "ultimate, ibnr = calculate_loss(adj_cum_triangle, 1)\n",
    "\n",
    "print(f\"IBNR: {ibnr.sum()}\",\n",
    "      f\"Ultimate: {ultimate.sum()}\",\n",
    "      sep=\"\\n\")"
   ]
  },
  {
   "cell_type": "markdown",
   "metadata": {},
   "source": [
    "---"
   ]
  }
 ],
 "metadata": {
  "kernelspec": {
   "display_name": "Python 3",
   "language": "python",
   "name": "python3"
  },
  "language_info": {
   "codemirror_mode": {
    "name": "ipython",
    "version": 3
   },
   "file_extension": ".py",
   "mimetype": "text/x-python",
   "name": "python",
   "nbconvert_exporter": "python",
   "pygments_lexer": "ipython3",
   "version": "3.8.3"
  }
 },
 "nbformat": 4,
 "nbformat_minor": 4
}
