{
 "cells": [
  {
   "cell_type": "markdown",
   "metadata": {},
   "source": [
    "### <center> **Bootstrapping using Chain Ladder method**\n",
    "---"
   ]
  },
  {
   "cell_type": "code",
   "execution_count": 1,
   "metadata": {},
   "outputs": [],
   "source": [
    "import numpy as np\n",
    "import pandas as pd\n",
    "from scipy import stats\n",
    "import matplotlib.pyplot as plt\n",
    "\n",
    "from chain_ladder import *\n",
    "pd.options.display.float_format = '{:.2f}'.format"
   ]
  },
  {
   "cell_type": "code",
   "execution_count": 2,
   "metadata": {},
   "outputs": [
    {
     "name": "stdin",
     "output_type": "stream",
     "text": [
      "sheet name: CAS\n"
     ]
    },
    {
     "name": "stdout",
     "output_type": "stream",
     "text": [
      "          1          2          3         4        5\n",
      "1   7017487 4151522.00  999910.00 215639.00 52760.00\n",
      "2   8954484 5091234.00 1037206.00 336748.00      NaN\n",
      "3   9155776 6215702.00 1086998.00       NaN      NaN\n",
      "4  10394069 6190043.00        NaN       NaN      NaN\n",
      "5  12755243        NaN        NaN       NaN      NaN\n"
     ]
    }
   ],
   "source": [
    "# 0. import data\n",
    "sheet_name = input(\"sheet name:\")\n",
    "\n",
    "X_triangle = import_triangle(\"triangles.xlsx\", sheet_name, \"triangle\") # incremental observed triangle\n",
    "Y_triangle = to_cum_triangle(X_triangle) # cumulative observed triangle\n",
    "print(X_triangle)\n",
    "\n",
    "t = X_triangle.shape[0] # number of acc./dev. years\n",
    "n = int(t*(t+1)/2) # number of elements in the upper triangle\n",
    "p = 2*t-1 # number of parameters to estimate"
   ]
  },
  {
   "cell_type": "code",
   "execution_count": 3,
   "metadata": {},
   "outputs": [
    {
     "name": "stdout",
     "output_type": "stream",
     "text": [
      "            1          2          3         4        5\n",
      "1  7003006.77 4267929.29  867577.77 246044.18 52760.00\n",
      "2  8719250.81 5313881.19 1080197.18 306342.82 65690.02\n",
      "3  9495299.05 5786837.90 1176339.05 333608.56 71536.70\n",
      "4 10304259.38 6279852.62 1276558.29 362030.64 77631.33\n",
      "5 12755243.00 7773585.98 1580201.99 448143.68 96096.81\n"
     ]
    }
   ],
   "source": [
    "# 1. development factors (chain ladder)\n",
    "M_table = gen_adj_table(Y_triangle)\n",
    "\n",
    "# 2. adjusted cumulative upper triangle (and loss reserve)\n",
    "M_triangle = to_triangular_form(M_table)\n",
    "_, ibnr = calculate_loss(M_triangle, 1) # IBNR by AY (assumes tail factor = 1)\n",
    "R = ibnr.sum() # total IBNR\n",
    "\n",
    "# 3. adjusted incremental upper triangle \n",
    "m_triangle = to_inc_triangle(M_triangle)\n",
    "print(m_triangle)"
   ]
  },
  {
   "cell_type": "code",
   "execution_count": 4,
   "metadata": {},
   "outputs": [
    {
     "name": "stdout",
     "output_type": "stream",
     "text": [
      "        1       2       3      4    5\n",
      "1    8.65  -89.09  224.64 -96.92 0.00\n",
      "2  125.96 -152.71  -65.40  86.86  NaN\n",
      "3 -174.21  281.88 -130.24    NaN  NaN\n",
      "4   44.24  -56.67     NaN    NaN  NaN\n",
      "5    0.00     NaN     NaN    NaN  NaN\n",
      "\n",
      "Scale parameter: 16721.1357\n"
     ]
    }
   ],
   "source": [
    "# 4.1 Pearson residuals\n",
    "r_triangle = (X_triangle - m_triangle) / np.sqrt(m_triangle) \n",
    "residuals = r_triangle.values.flatten()\n",
    "residuals = residuals[~np.isnan(residuals)] # 1D array\n",
    "\n",
    "phi = (residuals**2).sum()/(n-p) # scale parameter\n",
    "\n",
    "# 4.2 Adjusted pearson residuals\n",
    "r_triangle = r_triangle*np.sqrt(n/(n-p)) \n",
    "aj_residuals = r_triangle.values.flatten()\n",
    "aj_residuals = aj_residuals[~np.isnan(aj_residuals)] # 1D array\n",
    "\n",
    "print(r_triangle)\n",
    "print(f\"\\nScale parameter: {round(phi,4)}\")"
   ]
  },
  {
   "cell_type": "code",
   "execution_count": 5,
   "metadata": {},
   "outputs": [],
   "source": [
    "# 5. Bootstrap loop\n",
    "iterations = 1000\n",
    "results = []\n",
    "for i in range(iterations):\n",
    "    # 5.1 bootstrap sample of the residuals (upper triangle form)\n",
    "    boot_sample = pd.DataFrame(np.nan, index=range(1,t+1), columns=range(1,t+1))\n",
    "    for row in boot_sample.index:\n",
    "        for col in boot_sample.index:\n",
    "            if row+col<=t+1:\n",
    "                boot_sample.loc[row,col] = np.random.choice(aj_residuals)\n",
    "            else: pass\n",
    "\n",
    "    # 5.2 upper pseudo incremental values\n",
    "    Xpseudo_triangle = boot_sample*np.sqrt(m_triangle)+m_triangle\n",
    "\n",
    "    # 5.3 upper pseudo cumulative values\n",
    "    Ypseudo_triangle = to_cum_triangle(Xpseudo_triangle)\n",
    "\n",
    "    # 5.4 estimate lower pseudo cumulative triangle w/ chain ladder\n",
    "    Mpseudo_table = gen_adj_table(Ypseudo_triangle)\n",
    "    Mpseudo_triangle = to_triangular_form(Mpseudo_table) # estimated cumulative triangle\n",
    "\n",
    "    # 5.5 estimated lower pseudo incremental triangle\n",
    "    mpseudo_triangle = to_inc_triangle(Mpseudo_triangle)\n",
    "\n",
    "    # 5.6 generate random values from process distribution (gamma)\n",
    "    mgamma_triangle = mpseudo_triangle.apply(lambda m: np.random.gamma(shape=m/((m*phi**2)/m),\n",
    "                                                                       scale=(m*phi**2)/m\n",
    "                                                                      )\n",
    "                                            )\n",
    "\n",
    "    # 5.7 compute IBNR by AY\n",
    "    _, ibnr = calculate_loss(to_cum_triangle(mpseudo_triangle))\n",
    "\n",
    "    # 5.7 store the results and go back to step 5.1\n",
    "    results.append(ibnr.sum())\n",
    "\n",
    "results = np.array(results)"
   ]
  },
  {
   "cell_type": "code",
   "execution_count": 6,
   "metadata": {},
   "outputs": [
    {
     "name": "stdout",
     "output_type": "stream",
     "text": [
      "Bootstrap distribution presents the following statistics: \n",
      "\t- mean: 12094508.5\n",
      "\t- sample size: 1000\n",
      "\t- standard deviation: 598069.32 \n",
      "\t- variance: 357686916799.55 \n",
      "\t- standard error: 598069.32\n",
      "\n",
      "Quantiles: \n",
      "\t- min: 10291227.31\n",
      "\t- 1st-Q: 11668038.05\n",
      "\t- median: 12065681.97\n",
      "\t- 3rd-Q: 12488908.29\n",
      "\t- max: 14412488.66\n",
      "\n"
     ]
    },
    {
     "data": {
      "image/png": "[encoded data removed]",
      "text/plain": [
       "<Figure size 640x480 with 1 Axes>"
      ]
     },
     "metadata": {},
     "output_type": "display_data"
    },
    {
     "name": "stdout",
     "output_type": "stream",
     "text": [
      "Bootstrap estimated loss reserve is 12094508.504, with 9424.4966 bias from Chain Ladder method (12085084.0074).\n",
      "\n",
      "Variability measures for our estimates: \n",
      "\t- process variance: 202076329056.3412\n",
      "\t- estimation variance: 894217291.9989\n",
      "\t- cuadratic mean error: 202970546348.34\n",
      "\t- prediction error: 450522.5259 \n",
      "\n"
     ]
    }
   ],
   "source": [
    "# bootstrap distribution analysis\n",
    "\n",
    "# statistics\n",
    "mean = results.mean()\n",
    "std = results.std()\n",
    "var = std**2\n",
    "size = results.shape[0] \n",
    "se = std/np.sqrt(size)\n",
    "\n",
    "print(f\"\"\"Bootstrap distribution presents the following statistics: \n",
    "\\t- mean: {round(mean,2)}\n",
    "\\t- sample size: {size}\n",
    "\\t- standard deviation: {round(std,2)} \n",
    "\\t- variance: {round(var,2)} \n",
    "\\t- standard error: {round(std,2)}\n",
    "\"\"\")\n",
    "\n",
    "print(f\"\"\"Quantiles: \n",
    "\\t- min: {round(results.min(),2)}\n",
    "\\t- 1st-Q: {round(np.quantile(results, 0.25),2)}\n",
    "\\t- median: {round(np.median(results),2)}\n",
    "\\t- 3rd-Q: {round(np.quantile(results, 0.75),2)}\n",
    "\\t- max: {round(results.max(),2)}\n",
    "\"\"\")\n",
    "\n",
    "# histogram\n",
    "fig, ax = plt.subplots()\n",
    "\n",
    "num_bins, mu, sigma = 20, mean, std\n",
    "_, bins, patches = ax.hist(results, num_bins, density=True, color=\"silver\") # histogram\n",
    "\n",
    "y = ((1 / (np.sqrt(2 * np.pi) * sigma)) *\n",
    "     np.exp(-0.5 * (1 / sigma * (bins - mu))**2)) # best normal fit\n",
    "\n",
    "ax.plot(bins, y, '--', color=\"black\")\n",
    "ax.set_xlabel('Loss reserve')\n",
    "ax.set_ylabel('Probability density')\n",
    "ax.set_title(f'Histogram of IBNR: $\\mu$={round(mu,2)}, $\\sigma$={round(sigma,2)}')\n",
    "\n",
    "#plt.savefig('bootCL_hist.png')\n",
    "fig.tight_layout()\n",
    "plt.show()\n",
    "\n",
    "\n",
    "# estimates and variability measures\n",
    "bias = mean - R\n",
    "print(f\"Bootstrap estimated loss reserve is {round(mean,4)}, with {round(bias,4)} bias from Chain Ladder method ({round(R,4)}).\")\n",
    "\n",
    "var_process = phi*R\n",
    "var_estimations = n/(n-p)*se**2\n",
    "cme = var_estimations+var_process\n",
    "pe = np.sqrt(cme)\n",
    "\n",
    "print(f\"\"\"\\nVariability measures for our estimates: \n",
    "\\t- process variance: {round(var_process,4)}\n",
    "\\t- estimation variance: {round(var_estimations,4)}\n",
    "\\t- cuadratic mean error: {round(cme,4)}\n",
    "\\t- prediction error: {round(pe,4)} \n",
    "\"\"\")"
   ]
  },
  {
   "cell_type": "code",
   "execution_count": 7,
   "metadata": {
    "tags": []
   },
   "outputs": [],
   "source": [
    "#pd.DataFrame(results, columns=[\"IBNR-chain\"]).to_excel(\"resultados_boot_cl.xlsx\", index=False)"
   ]
  },
  {
   "cell_type": "markdown",
   "metadata": {},
   "source": [
    "---"
   ]
  }
 ],
 "metadata": {
  "kernelspec": {
   "display_name": "Python 3 (ipykernel)",
   "language": "python",
   "name": "python3"
  },
  "language_info": {
   "codemirror_mode": {
    "name": "ipython",
    "version": 3
   },
   "file_extension": ".py",
   "mimetype": "text/x-python",
   "name": "python",
   "nbconvert_exporter": "python",
   "pygments_lexer": "ipython3",
   "version": "3.11.4"
  }
 },
 "nbformat": 4,
 "nbformat_minor": 4
}
